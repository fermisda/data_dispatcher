{
 "cells": [
  {
   "cell_type": "markdown",
   "id": "282a12a4",
   "metadata": {
    "slideshow": {
     "slide_type": "slide"
    }
   },
   "source": [
    "# Data Dispatcher Demo\n",
    "\n",
    "* Create project\n",
    "* Project parametrization\n",
    "* Copying metadata\n",
    "* Run worker\n",
    "* Run multiple workers\n",
    "* Restart project"
   ]
  },
  {
   "cell_type": "markdown",
   "id": "c86f3089",
   "metadata": {
    "slideshow": {
     "slide_type": "slide"
    }
   },
   "source": [
    "# Demo Use Case\n",
    "\n",
    "- Verify checksums and sizes for a set of files seleted by an MQL query\n",
    "- Option to choose adler32 or crc32 checksum\n",
    "  - to demo project parametrization"
   ]
  },
  {
   "cell_type": "markdown",
   "id": "41f82ce8",
   "metadata": {
    "slideshow": {
     "slide_type": "slide"
    }
   },
   "source": [
    "# Tools\n",
    "\n",
    "* Checksum calculator\n",
    "* JSON field extrator\n"
   ]
  },
  {
   "cell_type": "markdown",
   "id": "1de982bd",
   "metadata": {
    "slideshow": {
     "slide_type": "subslide"
    }
   },
   "source": [
    "# Tools: checksum calculator\n",
    "\n",
    "Usage:\n",
    "```shell\n",
    "$ python checksum.py (crc32|adler32) <file>\n",
    "```\n",
    "\n",
    "Python script:\n",
    "```python\n",
    "import zlib, sys\n",
    "\n",
    "typ, path = sys.argv[1:]\n",
    "h = zlib.adler32 if typ == \"adler32\" else zlib.crc32\n",
    "\n",
    "with open(path, \"rb\") as f:\n",
    "    c = h(b\"\")\n",
    "    data = f.read(8*1024)\n",
    "    while data:\n",
    "        c = h(data, c)\n",
    "        data = f.read(8*1024)\n",
    "print(\"%x\" % (c & 0xffffffff,))\n",
    "```"
   ]
  },
  {
   "cell_type": "markdown",
   "id": "f0c23d87",
   "metadata": {
    "slideshow": {
     "slide_type": "subslide"
    }
   },
   "source": [
    "# Tools: JSON field extractor\n",
    "\n",
    "Usage:\n",
    "\n",
    "```shell\n",
    "$ python json_extract.py <file.json> <path/to/field>\n",
    "```\n",
    "\n"
   ]
  },
  {
   "cell_type": "markdown",
   "id": "985dec39",
   "metadata": {
    "slideshow": {
     "slide_type": "subslide"
    }
   },
   "source": [
    "# Example\n",
    "\n",
    "info.json:\n",
    "```json\n",
    "{\n",
    "    \"run_type\": \"demo\",\n",
    "    \"events\": [11,13,15],\n",
    "    \"params\" : {\n",
    "        \"debug\": true\n",
    "        \"size:\" 1273\n",
    "    }\n",
    "}\n",
    "```\n",
    "```shell\n",
    "$ python json_extract.py info.json run_type\n",
    "demo\n",
    "$ python json_extract.py info.json events/0\n",
    "11\n",
    "$ python json_extract.py info.json params\n",
    "{\n",
    "  \"debug\": true\n",
    "  \"size:\" 1273\n",
    "}\n",
    "$ python json_extract.py info.json params/size\n",
    "1273\n",
    "```\n"
   ]
  },
  {
   "cell_type": "markdown",
   "id": "0053c08c",
   "metadata": {
    "slideshow": {
     "slide_type": "slide"
    }
   },
   "source": [
    "# Creating Project\n",
    "\n",
    "```shell\n",
    "$ dd project create \\\n",
    "    -A \"checksum_type=<the type>\" \\ # use project attributes to pass job parameters\n",
    "    -c size,checksums             \\ # copy input file size and checksums \n",
    "                                  \\ # from MetaCat into file attributes\n",
    "    <MQL query>                                          \n",
    "```\n",
    "\n",
    "Project attributes and file attributes become available to the worker when it gets the next file"
   ]
  },
  {
   "cell_type": "markdown",
   "id": "28ab0037",
   "metadata": {
    "slideshow": {
     "slide_type": "subslide"
    }
   },
   "source": [
    "# create_project.sh\n",
    "\n",
    "```shell\n",
    "#!/bin/bash\n",
    "\n",
    "# Usage: create_project.sh <checksum type> <MQL query>\n",
    "\n",
    "checksum_type=$1\n",
    "shift\n",
    "\n",
    "project_id=`dd project create -A checksum_type=$checksum_type -c size,checksums $@`\n",
    "echo Project created: $project_id\n",
    "```"
   ]
  },
  {
   "cell_type": "markdown",
   "id": "c1548065",
   "metadata": {
    "slideshow": {
     "slide_type": "slide"
    }
   },
   "source": [
    "# What the worker receives\n",
    "\n",
    "```shell\n",
    "$ dd worker next -j <project id>\n",
    "```\n",
    "```json\n",
    "{\n",
    "  \"project_attributes\": { \"checksum_type\": \"adler32\" },  \n",
    "  \"attributes\": {             \n",
    "    \"checksums\": { \"adler32\": \"270725c4\" },\n",
    "    \"size\": 1332462751\n",
    "  },\n",
    "  \"name\": \"file.root\",\n",
    "  \"namespace\": \"dc4-hd-protodune\",\n",
    "  \"replicas\": [\n",
    "    {\n",
    "      \"rse\": \"DUNE_CERN_EOS\",\n",
    "      \"url\": \"root://eospublic.cern.ch//eos/experiment/neutplatform/protodune/dune/dc4-hd-protodune/dc/86/file.root\",\n",
    "      \"path\": \"/eos/experiment/neutplatform/protodune/dune/dc4-hd-protodune/dc/86/file.root\",\n",
    "      \"preference\": 1,\n",
    "      ...\n",
    "    }\n",
    "  ],\n",
    "  ...\n",
    "}\n",
    "```"
   ]
  },
  {
   "cell_type": "markdown",
   "id": "b9f4eb62",
   "metadata": {
    "slideshow": {
     "slide_type": "slide"
    }
   },
   "source": [
    "# Worker algorithm\n",
    "\n",
    "\n",
    "* while the project is active (not all files are *done* or *failed permanently*)\n",
    "    1. get next file from DD\n",
    "       * wait for a file to become available\n",
    "           * copied/staged into a known RSE\n",
    "           * another worker failed non-permanently\n",
    "    1. download the file using the URL received from DD\n",
    "    1. calculate the checksum of the requested type -- *use checksum.py*\n",
    "    1. compare calculated checksum and file size to the file metadata received from DD\n",
    "    1. print results\n",
    "\n",
    "\n",
    "\n"
   ]
  },
  {
   "cell_type": "markdown",
   "id": "ffaca6fb",
   "metadata": {
    "slideshow": {
     "slide_type": "slide"
    }
   },
   "source": [
    "# Worker script\n",
    "\n",
    "```shell\n",
    "#!/bin/bash\n",
    "\n",
    "# Usage: run_project.sh <project_id>\n",
    "\n",
    "if [ $1 == \"\" ]; then\n",
    "        echo Usage: run_project.sh \\<project_id\\>\n",
    "        exit 2\n",
    "fi\n",
    "\n",
    "project_id=$1\n",
    "\n",
    "cert=${HOME}/certs/ivm@fnal.gov_cert.pem\n",
    "key=${HOME}/certs/ivm@fnal.gov_key.pem\n",
    "\n",
    "my_id=`dd worker id checksums_$$`\n",
    "echo My worker id: $my_id\n",
    "info_file=/tmp/${my_id}.json\n",
    "tmpfile=/tmp/${my_id}.data\n",
    "\n",
    "done=\"false\"\n",
    "while [ $done == \"false\" ]; do\n",
    "\tdd worker next -w $my_id -j $project_id > $info_file\n",
    "        if [ \"$?\" != \"0\" ]; then\n",
    "            # likely the project is done\n",
    "            done=\"true\"\n",
    "            cat $info_file\n",
    "            rm -f $info_file\n",
    "        else\n",
    "            url=`python json_extract.py $info_file replicas/0/url`\n",
    "            namespace=`python json_extract.py $info_file namespace`\n",
    "            name=`python json_extract.py $info_file name`\n",
    "            did=${namespace}:${name}\n",
    "            \n",
    "            # checksum type from project attributes\n",
    "            checksum_type=`python json_extract.py $info_file project_attributes/checksum_type`\n",
    "\n",
    "            # size and checksum from MetaCat via file attributes\n",
    "            meta_checksum=`python json_extract.py $info_file attributes/checksums/$checksum_type`\n",
    "            meta_size=`python json_extract.py $info_file attributes/size`\n",
    "\n",
    "            echo\n",
    "            echo ------ $did ...\n",
    "\n",
    "            # download the replica using the URL from the DD\n",
    "            case $url in\n",
    "                root\\:*|xroot:*)\n",
    "                    xrdcp --force $url $tmpfile\n",
    "                    ;;\n",
    "                http\\:*)\n",
    "                    curl -L -o $tmpfile \"$url\"\n",
    "                    ;;\n",
    "                https\\:*)\n",
    "                    curl -L -k --cert $cert --key $key -o $tmpfile \"$url\"\n",
    "                    ;;\n",
    "                *)\n",
    "                    echo Unknown URL schema: $url\n",
    "                    exit 1\n",
    "                    ;;\n",
    "            esac\n",
    "            \n",
    "            # calculate the checksum and stat the file size\n",
    "            checksum=`python checksum.py $checksum_type $tmpfile`\n",
    "            size=`stat -c %s $tmpfile`\n",
    "            \n",
    "            # compare and print results\n",
    "            ok=ok\n",
    "            if [ \"$size\" != $meta_size ]; then\n",
    "                echo File size mismatch for $did: metadata: $meta_size, downloaded: $size\n",
    "                ok=\"\"\n",
    "            fi\n",
    "            if [ \"$checksum\" != $meta_checksum ]; then\n",
    "                echo Checksum mismatch for $did: metadata: $meta_checksum, downloaded: $checksum\n",
    "                ok=\"\"\n",
    "            fi\n",
    "            if [ \"$ok\" == \"ok\" ]; then\n",
    "                echo $did:  OK: size=$size $checksum_type=$checksum\n",
    "            fi\n",
    "            rm -f $tmpfile\n",
    "            dd worker done $project_id $did\n",
    "            echo\n",
    "    \tfi\n",
    "done\n",
    "```\n",
    "\n",
    "\n",
    "\n"
   ]
  },
  {
   "cell_type": "markdown",
   "id": "ea974fce",
   "metadata": {
    "slideshow": {
     "slide_type": "slide"
    }
   },
   "source": [
    "# DEMO"
   ]
  }
 ],
 "metadata": {
  "celltoolbar": "Slideshow",
  "kernelspec": {
   "display_name": "Python 3 (ipykernel)",
   "language": "python",
   "name": "python3"
  },
  "language_info": {
   "codemirror_mode": {
    "name": "ipython",
    "version": 3
   },
   "file_extension": ".py",
   "mimetype": "text/x-python",
   "name": "python",
   "nbconvert_exporter": "python",
   "pygments_lexer": "ipython3",
   "version": "3.7.10"
  }
 },
 "nbformat": 4,
 "nbformat_minor": 5
}
